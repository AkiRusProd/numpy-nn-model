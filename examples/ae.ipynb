{
 "cells": [
  {
   "cell_type": "code",
   "execution_count": null,
   "metadata": {},
   "outputs": [],
   "source": [
    "import os\n",
    "import sys\n",
    "\n",
    "if 'has_changed_dir' not in globals():\n",
    "    repo_path = os.path.abspath(os.path.join('..'))\n",
    "    \n",
    "    if repo_path not in sys.path:\n",
    "        sys.path.append(repo_path)\n",
    "    \n",
    "    os.chdir(repo_path)\n",
    "    \n",
    "    globals()['has_changed_dir'] = True\n",
    "    \n",
    "import numpy as np\n",
    "from PIL import Image\n",
    "from tqdm import tqdm\n",
    "\n",
    "import neunet as nnet\n",
    "import neunet.nn as nn\n",
    "from data_loader import load_mnist\n",
    "from neunet.optim import Adam\n",
    "\n"
   ]
  },
  {
   "cell_type": "code",
   "execution_count": null,
   "metadata": {},
   "outputs": [],
   "source": [
    "dataset, _, _, _ = load_mnist()\n",
    "input_dataset = dataset / 255  # normalization: / 255 => [0; 1]  #/ 127.5-1 => [-1; 1]\n",
    "target_dataset = dataset / 255  # normalization: / 255 => [0; 1]  #/ 127.5-1 => [-1; 1]\n",
    "\n",
    "noisy_inputs = True\n",
    "\n",
    "\n",
    "def add_noise(data):\n",
    "    noise_factor = 0.5\n",
    "\n",
    "    noisy_data = data + noise_factor * np.random.normal(0, 1, (data.shape))\n",
    "\n",
    "    return np.clip(noisy_data, 0, 1)\n",
    "\n",
    "\n",
    "if noisy_inputs:\n",
    "    input_dataset = add_noise(input_dataset)"
   ]
  },
  {
   "cell_type": "code",
   "execution_count": null,
   "metadata": {},
   "outputs": [],
   "source": [
    "latent_size = 64\n",
    "\n",
    "model = nn.Sequential(\n",
    "    nn.Linear(784, 256),\n",
    "    nn.ReLU(),\n",
    "    nn.Linear(256, 128),\n",
    "    nn.ReLU(),\n",
    "    nn.Linear(128, latent_size),\n",
    "    nn.ReLU(),\n",
    "    nn.Linear(latent_size, 128),\n",
    "    nn.ReLU(),\n",
    "    nn.Linear(128, 256),\n",
    "    nn.ReLU(),\n",
    "    nn.Linear(256, 784),\n",
    "    nn.Sigmoid(),\n",
    ")\n",
    "\n",
    "optimizer = Adam(model.parameters(), lr=0.001)\n",
    "loss_fn = nn.MSELoss()"
   ]
  },
  {
   "cell_type": "code",
   "execution_count": null,
   "metadata": {},
   "outputs": [],
   "source": [
    "batch_size = 100\n",
    "epochs = 100\n",
    "\n",
    "for epoch in range(epochs):\n",
    "    tqdm_range = tqdm(range(0, len(input_dataset), batch_size), desc=\"epoch %d\" % epoch)\n",
    "    model.train()\n",
    "    for i in tqdm_range:\n",
    "        input_batch = input_dataset[i : i + batch_size]\n",
    "        input_batch = nnet.tensor(input_batch, requires_grad=False).reshape(-1, 28 * 28)\n",
    "\n",
    "        target_batch = target_dataset[i : i + batch_size]\n",
    "        target_batch = nnet.tensor(target_batch, requires_grad=False).reshape(-1, 28 * 28)\n",
    "\n",
    "        optimizer.zero_grad()\n",
    "        output = model(input_batch)\n",
    "        loss = loss_fn(output, target_batch)\n",
    "        loss.backward()\n",
    "        optimizer.step()\n",
    "\n",
    "        tqdm_range.set_description(f\"epoch: {epoch + 1}/{epochs}, loss: {loss.item():.7f}\")\n",
    "\n",
    "    generated = (\n",
    "        model(nnet.tensor(input_dataset[:25], requires_grad=False).reshape(-1, 28 * 28))\n",
    "        .detach()\n",
    "        .numpy()\n",
    "    )\n",
    "    model.eval()\n",
    "    for i in range(25):\n",
    "        image = generated[i] * 255\n",
    "        image = image.astype(np.uint8)\n",
    "        image = image.reshape(28, 28)\n",
    "        image = Image.fromarray(image)\n",
    "        image.save(f\"generated images/{i}.png\")\n"
   ]
  }
 ],
 "metadata": {
  "kernelspec": {
   "display_name": ".venv",
   "language": "python",
   "name": "python3"
  },
  "language_info": {
   "codemirror_mode": {
    "name": "ipython",
    "version": 3
   },
   "file_extension": ".py",
   "mimetype": "text/x-python",
   "name": "python",
   "nbconvert_exporter": "python",
   "pygments_lexer": "ipython3",
   "version": "3.10.11"
  }
 },
 "nbformat": 4,
 "nbformat_minor": 2
}
