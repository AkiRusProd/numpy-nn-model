{
 "cells": [
  {
   "cell_type": "code",
   "execution_count": 1,
   "metadata": {},
   "outputs": [],
   "source": [
    "import os\n",
    "import sys\n",
    "\n",
    "if 'has_changed_dir' not in globals():\n",
    "    repo_path = os.path.abspath(os.path.join('..'))\n",
    "    \n",
    "    if repo_path not in sys.path:\n",
    "        sys.path.append(repo_path)\n",
    "    \n",
    "    os.chdir(repo_path)\n",
    "    \n",
    "    globals()['has_changed_dir'] = True\n",
    "\n",
    "from tqdm import tqdm\n",
    "\n",
    "import neunet as nnet\n",
    "import neunet.nn as nn\n",
    "import neunet.optim as optim"
   ]
  },
  {
   "cell_type": "code",
   "execution_count": 2,
   "metadata": {},
   "outputs": [
    {
     "name": "stdout",
     "output_type": "stream",
     "text": [
      "[(['cold.', 'it', 'forty', 'winters'], 'When'), (['When', 'cold.', 'winters', 'shall'], 'forty'), (['forty', 'When', 'shall', 'besiege'], 'winters')]\n"
     ]
    }
   ],
   "source": [
    "# Example based on the https://pytorch.org/tutorials/beginner/nlp/word_embeddings_tutorial.html\n",
    "\n",
    "CONTEXT_SIZE = 2  # 2 words to the left, 2 to the right\n",
    "EMBEDDING_DIM = 10\n",
    "# We will use Shakespeare Sonnet 2\n",
    "test_sentence = \"\"\"When forty winters shall besiege thy brow,\n",
    "And dig deep trenches in thy beauty's field,\n",
    "Thy youth's proud livery so gazed on now,\n",
    "Will be a totter'd weed of small worth held:\n",
    "Then being asked, where all thy beauty lies,\n",
    "Where all the treasure of thy lusty days;\n",
    "To say, within thine own deep sunken eyes,\n",
    "Were an all-eating shame, and thriftless praise.\n",
    "How much more praise deserv'd thy beauty's use,\n",
    "If thou couldst answer 'This fair child of mine\n",
    "Shall sum my count, and make my old excuse,'\n",
    "Proving his beauty by succession thine!\n",
    "This were to be new made when thou art old,\n",
    "And see thy blood warm when thou feel'st it cold.\"\"\".split()\n",
    "\n",
    "ngrams = [\n",
    "    (\n",
    "        [test_sentence[i - j - 1] for j in range(CONTEXT_SIZE)]\n",
    "        + [test_sentence[i + j + 1] for j in range(CONTEXT_SIZE)],\n",
    "        test_sentence[i],\n",
    "    )\n",
    "    for i in range(len(test_sentence) - CONTEXT_SIZE)\n",
    "]\n",
    "\n",
    "# Print the first 3, just so you can see what they look like.\n",
    "print(ngrams[:3])\n",
    "\n",
    "vocab = set(test_sentence)\n",
    "word_to_ix = {word: i for i, word in enumerate(vocab)}"
   ]
  },
  {
   "cell_type": "code",
   "execution_count": 3,
   "metadata": {},
   "outputs": [
    {
     "name": "stderr",
     "output_type": "stream",
     "text": [
      "CBOW loss: 0.0600264: 100%|██████████| 50/50 [00:04<00:00, 10.00it/s] "
     ]
    },
    {
     "name": "stdout",
     "output_type": "stream",
     "text": [
      "Embedding of the word \"beauty\":\n",
      "Tensor([ 0.56763744 -2.270883   -2.0926423   0.08079392  1.352815    0.91917616\n",
      "  1.0948925  -1.646624   -1.7545446   0.5057561 ], requires_grad=True, dtype=float32, device=cpu)\n"
     ]
    },
    {
     "name": "stderr",
     "output_type": "stream",
     "text": [
      "\n"
     ]
    }
   ],
   "source": [
    "class CBOWModeler(nn.Module):\n",
    "    def __init__(self, vocab_size, embedding_dim, context_size):\n",
    "        super(CBOWModeler, self).__init__()\n",
    "        self.vocab_size = vocab_size\n",
    "        self.embedding_dim = embedding_dim\n",
    "        self.context_size = context_size\n",
    "\n",
    "        self.embeddings = nn.Embedding(vocab_size, embedding_dim)\n",
    "        self.linear1 = nn.Linear(2 * context_size * embedding_dim, 128)\n",
    "        self.linear2 = nn.Linear(128, vocab_size)\n",
    "        self.relu = nn.ReLU()\n",
    "        self.softmax = nn.Softmax(axis=1)\n",
    "\n",
    "    def forward(self, inputs):\n",
    "        embeds = self.embeddings(inputs).reshape((1, -1))\n",
    "        out = self.relu(self.linear1(embeds))\n",
    "        out = self.linear2(out)\n",
    "        log_probs = self.softmax(out).log()\n",
    "        return log_probs\n",
    "\n",
    "\n",
    "loss_function = nn.NLLLoss()\n",
    "cbow_model = CBOWModeler(len(vocab), EMBEDDING_DIM, CONTEXT_SIZE)\n",
    "optimizer = optim.Adam(cbow_model.parameters(), lr=0.001)\n",
    "\n",
    "epochs = 50\n",
    "tqdm_range = tqdm(range(epochs))\n",
    "for _ in tqdm_range:\n",
    "    total_loss = 0\n",
    "    for context, target in ngrams:\n",
    "        context_idxs = nnet.tensor([word_to_ix[w] for w in context], dtype=nnet.int16)\n",
    "\n",
    "        optimizer.zero_grad()\n",
    "\n",
    "        log_probs = cbow_model(context_idxs)\n",
    "\n",
    "        loss = loss_function(\n",
    "            log_probs,\n",
    "            nnet.tensor([word_to_ix[target]], dtype=nnet.int16, requires_grad=False),\n",
    "        )\n",
    "\n",
    "        loss.backward()\n",
    "        optimizer.step()\n",
    "\n",
    "        total_loss += loss.item()\n",
    "\n",
    "    tqdm_range.set_description(f\"CBOW loss: {total_loss:.7f}\")\n",
    "\n",
    "print(f'Embedding of the word \"beauty\":\\n{cbow_model.embeddings.weight[word_to_ix[\"beauty\"]]}')\n"
   ]
  },
  {
   "cell_type": "code",
   "execution_count": 4,
   "metadata": {},
   "outputs": [
    {
     "name": "stderr",
     "output_type": "stream",
     "text": [
      "Skip-Gram loss: 34.4532870: 100%|██████████| 50/50 [00:06<00:00,  7.60it/s]"
     ]
    },
    {
     "name": "stdout",
     "output_type": "stream",
     "text": [
      "Embedding of the word \"beauty\":\n",
      "Tensor([ 0.06533778  0.03382551 -0.9777345  -0.30576292  1.0610697  -1.101685\n",
      "  1.2330028  -0.3664831   1.7346104   0.7724021 ], requires_grad=True, dtype=float32, device=cpu)\n"
     ]
    },
    {
     "name": "stderr",
     "output_type": "stream",
     "text": [
      "\n"
     ]
    }
   ],
   "source": [
    "class SkipGramModeler(nn.Module):\n",
    "    def __init__(self, vocab_size, embedding_dim, context_size):\n",
    "        super(SkipGramModeler, self).__init__()\n",
    "        self.vocab_size = vocab_size\n",
    "        self.embedding_dim = embedding_dim\n",
    "        self.context_size = context_size\n",
    "\n",
    "        self.embeddings = nn.Embedding(vocab_size, embedding_dim)\n",
    "        self.linear1 = nn.Linear(embedding_dim, 128)\n",
    "        self.linear2 = nn.Linear(128, 2 * context_size * vocab_size)\n",
    "        self.relu = nn.ReLU()\n",
    "        self.softmax = nn.Softmax(axis=1)\n",
    "\n",
    "    def forward(self, inputs):\n",
    "        embeds = self.embeddings(inputs).reshape((1, -1))\n",
    "        out = self.relu(self.linear1(embeds))\n",
    "        out = self.linear2(out).reshape(2 * self.context_size, -1)\n",
    "        log_probs = self.softmax(out).log()\n",
    "        return log_probs\n",
    "\n",
    "\n",
    "loss_function = nn.NLLLoss()\n",
    "skipgram_model = SkipGramModeler(len(vocab), EMBEDDING_DIM, CONTEXT_SIZE)\n",
    "optimizer = optim.Adam(skipgram_model.parameters(), lr=0.001)\n",
    "\n",
    "epochs = 50\n",
    "tqdm_range = tqdm(range(epochs))\n",
    "for _ in tqdm_range:\n",
    "    total_loss = 0\n",
    "    for context, target in ngrams:\n",
    "        context_idx = nnet.tensor([word_to_ix[target]], dtype=nnet.int16)\n",
    "\n",
    "        optimizer.zero_grad()\n",
    "\n",
    "        log_probs = skipgram_model(context_idx)\n",
    "\n",
    "        loss = loss_function(\n",
    "            log_probs, nnet.tensor([word_to_ix[w] for w in context], dtype=nnet.int16)\n",
    "        )\n",
    "\n",
    "        loss.backward()\n",
    "        optimizer.step()\n",
    "\n",
    "        total_loss += loss.item()\n",
    "\n",
    "    tqdm_range.set_description(f\"Skip-Gram loss: {total_loss:.7f}\")\n",
    "\n",
    "print(f'Embedding of the word \"beauty\":\\n{skipgram_model.embeddings.weight[word_to_ix[\"beauty\"]]}')\n"
   ]
  }
 ],
 "metadata": {
  "kernelspec": {
   "display_name": ".venv",
   "language": "python",
   "name": "python3"
  },
  "language_info": {
   "codemirror_mode": {
    "name": "ipython",
    "version": 3
   },
   "file_extension": ".py",
   "mimetype": "text/x-python",
   "name": "python",
   "nbconvert_exporter": "python",
   "pygments_lexer": "ipython3",
   "version": "3.10.11"
  }
 },
 "nbformat": 4,
 "nbformat_minor": 2
}
