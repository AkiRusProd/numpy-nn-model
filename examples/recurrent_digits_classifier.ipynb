{
 "cells": [
  {
   "cell_type": "code",
   "execution_count": 1,
   "metadata": {},
   "outputs": [],
   "source": [
    "import os\n",
    "import sys\n",
    "\n",
    "if 'has_changed_dir' not in globals():\n",
    "    repo_path = os.path.abspath(os.path.join('..'))\n",
    "    \n",
    "    if repo_path not in sys.path:\n",
    "        sys.path.append(repo_path)\n",
    "    \n",
    "    os.chdir(repo_path)\n",
    "    \n",
    "    globals()['has_changed_dir'] = True\n",
    "\n",
    "import numpy as np\n",
    "from tqdm import tqdm\n",
    "\n",
    "import neunet as nnet\n",
    "import neunet.nn as nn\n",
    "from data_loader import load_mnist\n",
    "from neunet.optim import Adam\n"
   ]
  },
  {
   "cell_type": "code",
   "execution_count": 2,
   "metadata": {},
   "outputs": [],
   "source": [
    "image_size = (1, 28, 28)\n",
    "\n",
    "training_dataset, test_dataset, training_targets, test_targets = load_mnist()\n",
    "training_dataset = (\n",
    "    training_dataset / 127.5 - 1\n",
    ")  # normalization: / 255 => [0; 1]  #/ 127.5-1 => [-1; 1]\n",
    "test_dataset = test_dataset / 127.5 - 1  # normalization: / 255 => [0; 1]  #/ 127.5-1 => [-1; 1]\n",
    "\n",
    "device = \"cpu\"\n"
   ]
  },
  {
   "cell_type": "code",
   "execution_count": 3,
   "metadata": {},
   "outputs": [],
   "source": [
    "class RecurrentClassifier(nn.Module):\n",
    "    def __init__(self):\n",
    "        super(RecurrentClassifier, self).__init__()\n",
    "\n",
    "        self.lstm1 = nn.LSTM(28, 128, return_sequences=True)\n",
    "        self.lstm2 = nn.LSTM(128, 128, return_sequences=False)\n",
    "        self.fc1 = nn.Linear(128, 10)\n",
    "        self.sigmoid = nn.Sigmoid()\n",
    "\n",
    "    def forward(self, x):\n",
    "        x = self.lstm1(x)\n",
    "        x = self.lstm2(x)\n",
    "        x = x.reshape(x.shape[0], -1)\n",
    "        x = self.fc1(x)\n",
    "        x = self.sigmoid(x)\n",
    "\n",
    "        return x\n",
    "\n",
    "\n",
    "classifier = RecurrentClassifier().to(device)\n",
    "loss_fn = nn.MSELoss()\n",
    "optimizer = Adam(classifier.parameters(), lr=0.0001)"
   ]
  },
  {
   "cell_type": "code",
   "execution_count": 4,
   "metadata": {},
   "outputs": [],
   "source": [
    "def one_hot_encode(labels):\n",
    "    one_hot_labels = np.zeros((labels.shape[0], 10))\n",
    "\n",
    "    for i in range(labels.shape[0]):\n",
    "        one_hot_labels[i, int(labels[i])] = 1\n",
    "\n",
    "    return one_hot_labels\n",
    "\n"
   ]
  },
  {
   "cell_type": "code",
   "execution_count": 5,
   "metadata": {},
   "outputs": [
    {
     "name": "stderr",
     "output_type": "stream",
     "text": [
      "epoch: 1/5, loss: 0.0852658: 100%|██████████| 600/600 [02:13<00:00,  4.51it/s]\n",
      "epoch: 2/5, loss: 0.0592526: 100%|██████████| 600/600 [02:08<00:00,  4.68it/s]\n",
      "epoch: 3/5, loss: 0.0358843: 100%|██████████| 600/600 [02:18<00:00,  4.34it/s]\n",
      "epoch: 4/5, loss: 0.0200823: 100%|██████████| 600/600 [02:26<00:00,  4.11it/s]\n",
      "epoch: 5/5, loss: 0.0152862: 100%|██████████| 600/600 [03:20<00:00,  2.99it/s]\n"
     ]
    }
   ],
   "source": [
    "\n",
    "batch_size = 100\n",
    "epochs = 5\n",
    "\n",
    "for epoch in range(epochs):\n",
    "    tqdm_range = tqdm(range(0, len(training_dataset), batch_size), desc=\"epoch \" + str(epoch))\n",
    "    for i in tqdm_range:\n",
    "        batch = training_dataset[i : i + batch_size]\n",
    "\n",
    "        batch = batch.reshape(batch.shape[0], image_size[1], image_size[2])\n",
    "\n",
    "        batch = nnet.tensor(batch, device=device)\n",
    "\n",
    "        labels = nnet.tensor(one_hot_encode(training_targets[i : i + batch_size]), device=device)\n",
    "\n",
    "        optimizer.zero_grad()\n",
    "\n",
    "        outputs = classifier(batch)\n",
    "\n",
    "        loss = loss_fn(outputs, labels)\n",
    "\n",
    "        loss.backward()\n",
    "\n",
    "        optimizer.step()\n",
    "\n",
    "        tqdm_range.set_description(f\"epoch: {epoch + 1}/{epochs}, loss: {loss.item():.7f}\")"
   ]
  },
  {
   "cell_type": "code",
   "execution_count": 6,
   "metadata": {},
   "outputs": [
    {
     "name": "stderr",
     "output_type": "stream",
     "text": [
      "evaluating: 100%|██████████| 10000/10000 [04:16<00:00, 38.95it/s]"
     ]
    },
    {
     "name": "stdout",
     "output_type": "stream",
     "text": [
      "Accuracy of the network on the 10000 test images: 91 %\n"
     ]
    },
    {
     "name": "stderr",
     "output_type": "stream",
     "text": [
      "\n"
     ]
    }
   ],
   "source": [
    "# evaluate\n",
    "correct = 0\n",
    "total = 0\n",
    "\n",
    "\n",
    "for i in tqdm(range(len(test_dataset)), desc=\"evaluating\"):\n",
    "    img = test_dataset[i]\n",
    "    img = img.reshape(1, image_size[1], image_size[2])\n",
    "    img = nnet.tensor(img, device=device)\n",
    "\n",
    "    outputs = classifier(img)\n",
    "    predicted = np.argmax(outputs.detach().cpu().numpy())\n",
    "\n",
    "    total += 1\n",
    "    correct += predicted == test_targets[i]\n",
    "\n",
    "print(\"Accuracy of the network on the 10000 test images: %d %%\" % (100 * correct / total))\n"
   ]
  }
 ],
 "metadata": {
  "kernelspec": {
   "display_name": "Python 3",
   "language": "python",
   "name": "python3"
  },
  "language_info": {
   "codemirror_mode": {
    "name": "ipython",
    "version": 3
   },
   "file_extension": ".py",
   "mimetype": "text/x-python",
   "name": "python",
   "nbconvert_exporter": "python",
   "pygments_lexer": "ipython3",
   "version": "3.10.11"
  }
 },
 "nbformat": 4,
 "nbformat_minor": 2
}
