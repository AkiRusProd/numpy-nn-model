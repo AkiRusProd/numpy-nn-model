{
 "cells": [
  {
   "cell_type": "code",
   "execution_count": 1,
   "metadata": {},
   "outputs": [],
   "source": [
    "import os\n",
    "import sys\n",
    "\n",
    "if 'has_changed_dir' not in globals():\n",
    "    repo_path = os.path.abspath(os.path.join('..'))\n",
    "    \n",
    "    if repo_path not in sys.path:\n",
    "        sys.path.append(repo_path)\n",
    "    \n",
    "    os.chdir(repo_path)\n",
    "    \n",
    "    globals()['has_changed_dir'] = True\n",
    "\n",
    "import numpy as np\n",
    "from tqdm import tqdm\n",
    "\n",
    "import neunet as nnet\n",
    "import neunet.nn as nn\n",
    "import matplotlib.pyplot as plt\n",
    "from neunet.optim import Adam"
   ]
  },
  {
   "cell_type": "code",
   "execution_count": 2,
   "metadata": {},
   "outputs": [],
   "source": [
    "device = \"cpu\"\n",
    "\n",
    "document = [\n",
    "    \"Nice Clothes!\",\n",
    "    \"Very good shop for clothes\",\n",
    "    \"Amazing clothes\",\n",
    "    \"Clothes are good\",\n",
    "    \"Superb!\",\n",
    "    \"Very bad\",\n",
    "    \"Poor quality\",\n",
    "    \"not good\",\n",
    "    \"clothes fitting bad\",\n",
    "    \"Shop not good\",\n",
    "]\n",
    "\n",
    "labels = [1, 1, 1, 1, 1, 0, 0, 0, 0, 0]\n",
    "vocab_size = 40\n",
    "\n",
    "\n",
    "chars2remove = '!\"#$%&()*+,-./:;<=>?@[\\\\]^_`{|}~\\t\\n'"
   ]
  },
  {
   "cell_type": "code",
   "execution_count": 3,
   "metadata": {},
   "outputs": [
    {
     "name": "stdout",
     "output_type": "stream",
     "text": [
      "Filtered document: ['Nice Clothes', 'Very good shop for clothes', 'Amazing clothes', 'Clothes are good', 'Superb', 'Very bad', 'Poor quality', 'not good', 'clothes fitting bad', 'Shop not good']\n",
      "Words: {'amazing', 'are', 'bad', 'nice', 'quality', 'superb', 'fitting', 'not', 'clothes', 'very', 'poor', 'good', 'for', 'shop'}\n",
      "Encoded document: [[37, 12], [2, 1, 38, 18, 12], [16, 12], [12, 3, 1], [7], [2, 35], [11, 13], [25, 1], [12, 29, 35], [38, 25, 1]]\n",
      "Max length: 5\n",
      "Padded document:\n",
      "[37, 12, 0, 0, 0]\n",
      "[37, 12, 0, 0, 0]\n",
      "[16, 12, 0, 0, 0]\n",
      "[12, 3, 1, 0, 0]\n",
      "[7, 0, 0, 0, 0]\n",
      "[2, 35, 0, 0, 0]\n",
      "[11, 13, 0, 0, 0]\n",
      "[25, 1, 0, 0, 0]\n",
      "[12, 29, 35, 0, 0]\n",
      "[38, 25, 1, 0, 0]\n"
     ]
    }
   ],
   "source": [
    "filtered_document: list[str] = []\n",
    "for line in document:\n",
    "    line = \"\".join([c for c in line if c not in chars2remove])\n",
    "    filtered_document.append(line)\n",
    "\n",
    "print(f\"Filtered document: {filtered_document}\")\n",
    "\n",
    "words = {word.lower() for line in filtered_document for word in line.split()}\n",
    "\n",
    "print(f\"Words: {words}\")\n",
    "\n",
    "words_labels = np.random.choice(range(1, vocab_size), len(words), replace=False)\n",
    "vocab = dict(zip(words, words_labels, strict=False))\n",
    "\n",
    "encoded_document: list[list[int]] = []\n",
    "for line in filtered_document:\n",
    "    encoded_line: list[int] = []\n",
    "    for word in line.split():\n",
    "        encoded_line.append(vocab[word.lower()])\n",
    "    encoded_document.append(encoded_line)\n",
    "\n",
    "print(f\"Encoded document: {encoded_document}\")\n",
    "\n",
    "max_length = len(max(encoded_document, key=len))\n",
    "print(f\"Max length: {max_length}\")\n",
    "\n",
    "padded_document: list[list[int]] = []\n",
    "for encoded_line in encoded_document:\n",
    "    if len(encoded_line) < max_length:\n",
    "        padded_line = encoded_line + [0] * (max_length - len(encoded_line))\n",
    "    padded_document.append(padded_line)\n",
    "\n",
    "print(\"Padded document:\", *padded_document, sep=\"\\n\")\n"
   ]
  },
  {
   "cell_type": "code",
   "execution_count": 4,
   "metadata": {},
   "outputs": [],
   "source": [
    "\n",
    "# class ExtractTensor(nn.Module):\n",
    "#     def __init__(self, return_sequences):\n",
    "#         super().__init__()\n",
    "#         self.return_sequences = return_sequences\n",
    "\n",
    "#     def forward(self, X):\n",
    "#         all_states, last_state = X\n",
    "#         if self.return_sequences:\n",
    "#             return all_states\n",
    "#         else:\n",
    "#             return last_state\n",
    "\n",
    "# model = nn.Sequential(\n",
    "#     nn.Embedding(vocab_size, 10),\n",
    "#     nn.GRU(10, 50),\n",
    "#     ExtractTensor(return_sequences=True),\n",
    "#     nn.GRU(50, 50),\n",
    "#     ExtractTensor(return_sequences=True),\n",
    "#     nn.GRU(50, 50),\n",
    "#     ExtractTensor(return_sequences=False),\n",
    "#     nn.Linear(50, 1),\n",
    "#     nn.Sigmoid()\n",
    "# )\n",
    "\n",
    "model = nn.Sequential(\n",
    "    nn.Embedding(vocab_size, 10),\n",
    "    nn.Bidirectional(nn.GRU(10, 50, return_sequences=True), merge_mode=\"sum\"),\n",
    "    nn.Bidirectional(nn.RNN(50, 50, return_sequences=True, bias=True)),\n",
    "    nn.Bidirectional(nn.GRU(50, 50, return_sequences=False)),\n",
    "    nn.Linear(50, 1),\n",
    "    nn.Sigmoid(),\n",
    ").to(device)\n",
    "\n",
    "\n",
    "loss_fn = nn.MSELoss()\n",
    "optimizer = Adam(model.parameters(), lr=0.001)"
   ]
  },
  {
   "cell_type": "code",
   "execution_count": 5,
   "metadata": {},
   "outputs": [],
   "source": [
    "array_padded_document: np.ndarray = np.array(padded_document)\n",
    "labels = nnet.tensor(np.array(labels).reshape(-1, 1), device=device)"
   ]
  },
  {
   "cell_type": "code",
   "execution_count": 6,
   "metadata": {},
   "outputs": [
    {
     "name": "stderr",
     "output_type": "stream",
     "text": [
      "epoch: 100/100, loss: 0.0000029: 100%|██████████| 100/100 [00:05<00:00, 17.99it/s]\n"
     ]
    }
   ],
   "source": [
    "loss = []\n",
    "epochs = 100\n",
    "tqdm_range = tqdm(range(epochs))\n",
    "for epoch in tqdm_range:\n",
    "    for i in range(array_padded_document.shape[0]):\n",
    "        optimizer.zero_grad()\n",
    "        y_pred = model.forward(nnet.tensor(array_padded_document[i], dtype=nnet.int32).to(device))\n",
    "\n",
    "        loss_ = loss_fn(y_pred, labels[i])\n",
    "        loss_.backward()\n",
    "        optimizer.step()\n",
    "        loss.append(loss_.item())\n",
    "\n",
    "    tqdm_range.set_description(f\"epoch: {epoch + 1}/{epochs}, loss: {loss[-1]:.7f}\")"
   ]
  },
  {
   "cell_type": "code",
   "execution_count": 7,
   "metadata": {},
   "outputs": [
    {
     "name": "stdout",
     "output_type": "stream",
     "text": [
      "Accuracy: 100.0%\n"
     ]
    }
   ],
   "source": [
    "acc = 0\n",
    "for i in range(array_padded_document.shape[0]):\n",
    "    y_pred = model.forward(nnet.tensor(array_padded_document[i], dtype=nnet.int32))\n",
    "    if y_pred.detach().cpu().numpy().round() == labels[i]:\n",
    "        acc += 1\n",
    "\n",
    "print(f\"Accuracy: {acc / array_padded_document.shape[0] * 100}%\")\n"
   ]
  },
  {
   "cell_type": "code",
   "execution_count": 8,
   "metadata": {},
   "outputs": [
    {
     "data": {
      "image/png": "[encoded data removed]",
      "text/plain": [
       "<Figure size 640x480 with 1 Axes>"
      ]
     },
     "metadata": {},
     "output_type": "display_data"
    }
   ],
   "source": [
    "plt.plot(loss)\n",
    "plt.title(\"Model loss\")\n",
    "plt.ylabel(\"loss\")\n",
    "plt.xlabel(\"iterations\")\n",
    "plt.show()\n"
   ]
  }
 ],
 "metadata": {
  "kernelspec": {
   "display_name": ".venv",
   "language": "python",
   "name": "python3"
  },
  "language_info": {
   "codemirror_mode": {
    "name": "ipython",
    "version": 3
   },
   "file_extension": ".py",
   "mimetype": "text/x-python",
   "name": "python",
   "nbconvert_exporter": "python",
   "pygments_lexer": "ipython3",
   "version": "3.10.11"
  }
 },
 "nbformat": 4,
 "nbformat_minor": 2
}
